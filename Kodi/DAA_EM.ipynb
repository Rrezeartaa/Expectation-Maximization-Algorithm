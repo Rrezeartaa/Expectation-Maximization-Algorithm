{
 "cells": [
  {
   "cell_type": "code",
   "execution_count": 1,
   "metadata": {},
   "outputs": [],
   "source": [
    "import matplotlib.pyplot as plt\n",
    "import seaborn as sns\n",
    "sns.set_style(\"white\")\n",
    "%matplotlib inline\n",
    "import numpy as np\n",
    "from scipy import stats\n",
    "import pandas as pd\n",
    "from math import sqrt, log, exp, pi\n",
    "from random import uniform"
   ]
  },
  {
   "cell_type": "code",
   "execution_count": 3,
   "metadata": {},
   "outputs": [
    {
     "name": "stdout",
     "output_type": "stream",
     "text": [
      "Jepni vleren per Mean1: f\n",
      "Jepni vleren per Standard_dev1: f\n",
      "Jepni vleren per Mean2: f\n",
      "Jepni vleren per Standard_dev2: f\n",
      "Duhet te jepni vetem numra float ose integer!\n",
      "Jepni vleren per Mean1: 3\n",
      "Jepni vleren per Standard_dev1: 3\n",
      "Jepni vleren per Mean2: 3\n",
      "Jepni vleren per Standard_dev2: 2\n",
      "Input Gaussian 1: μ = 3.0, σ = 3.0\n",
      "Input Gaussian 2: μ = 3.0, σ = 2.0\n",
      "[1.98404919 2.23279135 3.15343843 ... 1.19312262 0.23503106 1.93138823]\n"
     ]
    },
    {
     "name": "stderr",
     "output_type": "stream",
     "text": [
      "C:\\Users\\Admin\\anaconda3\\lib\\site-packages\\seaborn\\distributions.py:2551: FutureWarning: `distplot` is a deprecated function and will be removed in a future version. Please adapt your code to use either `displot` (a figure-level function with similar flexibility) or `histplot` (an axes-level function for histograms).\n",
      "  warnings.warn(msg, FutureWarning)\n"
     ]
    },
    {
     "data": {
      "image/png": "[encoded data removed]",
      "text/plain": [
       "<Figure size 432x288 with 1 Axes>"
      ]
     },
     "metadata": {
      "needs_background": "light"
     },
     "output_type": "display_data"
    }
   ],
   "source": [
    "random_seed=36788765\n",
    "np.random.seed(random_seed)\n",
    "\n",
    "M1 = input('Jepni vleren per Mean1: ')  \n",
    "S1 = input('Jepni vleren per Standard_dev1: ')\n",
    "M2 = input('Jepni vleren per Mean2: ') \n",
    "S2 = input('Jepni vleren per Standard_dev2: ')\n",
    "\n",
    "if isinstance(M1, str) or isinstance(S1, str) or isinstance(M2, str) or isinstance(S2, str):\n",
    "    print(\"Duhet te jepni vetem numra float ose integer!\")\n",
    "    M1 = input('Jepni vleren per Mean1: ')  \n",
    "    S1 = input('Jepni vleren per Standard_dev1: ')\n",
    "    M2 = input('Jepni vleren per Mean2: ') \n",
    "    S2 = input('Jepni vleren per Standard_dev2: ')\n",
    "\n",
    "Mean1 = float(M1)\n",
    "Standard_dev1=float(S1)\n",
    "Mean2=float(M2)\n",
    "Standard_dev2=float(S2)\n",
    "\n",
    "y1 = np.random.normal(Mean1, Standard_dev1, 1500)\n",
    "y2 = np.random.normal(Mean2, Standard_dev2, 750)\n",
    "data=np.append(y1,y2)\n",
    "\n",
    "\n",
    "Min_graph = min(data)\n",
    "Max_graph = max(data)\n",
    "x = np.linspace(Min_graph, Max_graph, 2000) \n",
    "\n",
    "print('Input Gaussian {:}: μ = {:.2}, σ = {:.2}'.format(\"1\", Mean1, Standard_dev1))\n",
    "print('Input Gaussian {:}: μ = {:.2}, σ = {:.2}'.format(\"2\", Mean2, Standard_dev2))\n",
    "sns.distplot(data, bins=20, kde=False);\n",
    "print(data)"
   ]
  },
  {
   "cell_type": "code",
   "execution_count": 4,
   "metadata": {},
   "outputs": [],
   "source": [
    "class Gaussian:\n",
    "\n",
    "    def __init__(self, mu, sigma):\n",
    "        \n",
    "        self.mu = mu\n",
    "        self.sigma = sigma\n",
    "\n",
    "    def pdf(self, datum):\n",
    "\n",
    "        u = (datum - self.mu) / abs(self.sigma)\n",
    "        y = (1 / (sqrt(2 * pi) * abs(self.sigma))) * exp(-u * u / 2)\n",
    "        return y\n",
    "    \n",
    "    def __repr__(self):\n",
    "        return 'Gaussian({0:4.6}, {1:4.6})'.format(self.mu, self.sigma)\n",
    "    "
   ]
  },
  {
   "cell_type": "code",
   "execution_count": 5,
   "metadata": {},
   "outputs": [
    {
     "name": "stdout",
     "output_type": "stream",
     "text": [
      "Single Gaussian me i mire: μ = 3.1, σ = 2.7\n"
     ]
    },
    {
     "data": {
      "image/png": "[encoded data removed]",
      "text/plain": [
       "<Figure size 432x288 with 1 Axes>"
      ]
     },
     "metadata": {
      "needs_background": "light"
     },
     "output_type": "display_data"
    }
   ],
   "source": [
    "best_single = Gaussian(np.mean(data), np.std(data))\n",
    "print('Single Gaussian me i mire: μ = {:.2}, σ = {:.2}'.format(best_single.mu, best_single.sigma))\n",
    "\n",
    "g_single = stats.norm(best_single.mu, best_single.sigma).pdf(x)\n",
    "sns.distplot(data, bins=20, kde=False, norm_hist=True);\n",
    "plt.plot(x, g_single, label='single gaussian');\n",
    "plt.legend();"
   ]
  },
  {
   "cell_type": "code",
   "execution_count": 6,
   "metadata": {},
   "outputs": [],
   "source": [
    "class GaussianMixture_self:\n",
    "\n",
    "    def __init__(self, data, mu_min=min(data), mu_max=max(data), sigma_min=1, sigma_max=1, mix=.5):\n",
    "        self.data = data\n",
    "        \n",
    "        self.one = Gaussian(uniform(mu_min, mu_max), \n",
    "                            uniform(sigma_min, sigma_max))\n",
    "        self.two = Gaussian(uniform(mu_min, mu_max), \n",
    "                            uniform(sigma_min, sigma_max))\n",
    "        \n",
    "        self.mix = mix\n",
    "\n",
    "    def Estep(self):\n",
    "\n",
    "        self.loglike = 0.\n",
    "        for datum in self.data:  \n",
    "\n",
    "            wp1 = self.one.pdf(datum) * self.mix\n",
    "            wp2 = self.two.pdf(datum) * (1. - self.mix)\n",
    "\n",
    "            den = wp1 + wp2\n",
    "\n",
    "            wp1 /= den   \n",
    "            wp2 /= den     \n",
    "\n",
    "            self.loglike += log(den)\n",
    "\n",
    "            yield (wp1, wp2)\n",
    "\n",
    "    def Mstep(self, weights):\n",
    "     \n",
    "        (left, rigt) = zip(*weights) \n",
    "        one_den = sum(left)\n",
    "        two_den = sum(rigt)\n",
    "\n",
    "        self.one.mu = sum(w * d  for (w, d) in zip(left, data)) / one_den\n",
    "        self.two.mu = sum(w * d  for (w, d) in zip(rigt, data)) / two_den\n",
    "        \n",
    "        self.one.sigma = sqrt(sum(w * ((d - self.one.mu) ** 2)\n",
    "                                  for (w, d) in zip(left, data)) / one_den)\n",
    "        self.two.sigma = sqrt(sum(w * ((d - self.two.mu) ** 2)\n",
    "                                  for (w, d) in zip(rigt, data)) / two_den)\n",
    " \n",
    "        self.mix = one_den / len(data)\n",
    "\n",
    "        \n",
    "    def iterate(self, N=1, verbose=False):\n",
    "\n",
    "        for i in range(1, N+1):\n",
    "            self.Mstep(self.Estep())\n",
    "            if verbose:\n",
    "                print('{0:2} {1}'.format(i, self))\n",
    "        self.Estep() \n",
    "\n",
    "    def pdf(self, x):\n",
    "        return (self.mix)*self.one.pdf(x) + (1-self.mix)*self.two.pdf(x)\n",
    "    def __repr__(self):\n",
    "        return 'GaussianMixture({0}, {1}, mix={2.03})'.format(self.one, \n",
    "                                                              self.two, \n",
    "                                                              self.mix)\n",
    "\n",
    "    def __str__(self):\n",
    "        return 'Mixture: {0}, {1}, mix={2:.03})'.format(self.one, \n",
    "                                                        self.two, \n",
    "                                                        self.mix)"
   ]
  },
  {
   "cell_type": "code",
   "execution_count": 7,
   "metadata": {},
   "outputs": [
    {
     "name": "stdout",
     "output_type": "stream",
     "text": [
      " 1 Mixture: Gaussian(5.54323, 1.61508), Gaussian(1.30836, 1.72318), mix=0.414)\n",
      " 1 Mixture: Gaussian(5.37394, 1.81703), Gaussian(1.45993, 1.89262), mix=0.409)\n",
      " 1 Mixture: Gaussian(5.25805, 1.93344), Gaussian(1.55668, 1.98809), mix=0.407)\n",
      " 1 Mixture: Gaussian(5.17013, 2.01347), Gaussian(1.62793, 2.05225), mix=0.405)\n",
      " 1 Mixture: Gaussian(5.09942, 2.07355), Gaussian(1.68427, 2.09945), mix=0.403)\n",
      " 1 Mixture: Gaussian(5.04037, 2.12115), Gaussian(1.73079, 2.13617), mix=0.402)\n",
      " 1 Mixture: Gaussian(4.98972, 2.16027), Gaussian(1.77037, 2.16584), mix=0.401)\n",
      " 1 Mixture: Gaussian(4.94542, 2.1933), Gaussian(1.80477, 2.1905), mix=0.4)\n",
      " 1 Mixture: Gaussian(4.90608, 2.22175), Gaussian(1.83516, 2.21144), mix=0.399)\n",
      " 1 Mixture: Gaussian(4.87072, 2.24666), Gaussian(1.86238, 2.22951), mix=0.399)\n",
      " 1 Mixture: Gaussian(4.83862, 2.26874), Gaussian(1.887, 2.24533), mix=0.398)\n",
      " 1 Mixture: Gaussian(4.80924, 2.28854), Gaussian(1.90947, 2.25933), mix=0.397)\n",
      " 1 Mixture: Gaussian(4.78216, 2.30644), Gaussian(1.93012, 2.27183), mix=0.397)\n",
      " 1 Mixture: Gaussian(4.75705, 2.32276), Gaussian(1.94923, 2.28309), mix=0.396)\n",
      " 1 Mixture: Gaussian(4.73366, 2.33773), Gaussian(1.967, 2.2933), mix=0.396)\n",
      " 1 Mixture: Gaussian(4.71176, 2.35154), Gaussian(1.98361, 2.30261), mix=0.395)\n",
      " 1 Mixture: Gaussian(4.69118, 2.36435), Gaussian(1.99919, 2.31115), mix=0.395)\n",
      " 1 Mixture: Gaussian(4.67176, 2.37628), Gaussian(2.01386, 2.31901), mix=0.394)\n",
      " 1 Mixture: Gaussian(4.6534, 2.38744), Gaussian(2.02773, 2.32629), mix=0.394)\n",
      " 1 Mixture: Gaussian(4.63597, 2.39792), Gaussian(2.04086, 2.33304), mix=0.393)\n"
     ]
    }
   ],
   "source": [
    "n_iterations = 20\n",
    "best_mix = None\n",
    "best_loglike = float('-inf')\n",
    "mix = GaussianMixture_self(data)\n",
    "for _ in range(n_iterations):\n",
    "    try:\n",
    "\n",
    "        mix.iterate(verbose=True)\n",
    "        if mix.loglike > best_loglike:\n",
    "            best_loglike = mix.loglike\n",
    "            best_mix = mix\n",
    "        \n",
    "    except (ZeroDivisionError, ValueError, RuntimeWarning): \n",
    "        print(\"one less\")\n",
    "        pass"
   ]
  },
  {
   "cell_type": "code",
   "execution_count": 8,
   "metadata": {},
   "outputs": [
    {
     "name": "stdout",
     "output_type": "stream",
     "text": [
      "Llogaritja e modelit me te mire...\n",
      "\n",
      "Input Gaussian 1: μ = 3.0, σ = 3.0\n",
      "Input Gaussian 2: μ = 3.0, σ = 2.0\n",
      "Gaussian 1: μ = 2.7, σ = 2.2, weight = 0.3\n",
      "Gaussian 2: μ = 3.2, σ = 2.9, weight = 0.7\n"
     ]
    },
    {
     "name": "stderr",
     "output_type": "stream",
     "text": [
      "C:\\Users\\Admin\\anaconda3\\lib\\site-packages\\seaborn\\distributions.py:2551: FutureWarning: `distplot` is a deprecated function and will be removed in a future version. Please adapt your code to use either `displot` (a figure-level function with similar flexibility) or `histplot` (an axes-level function for histograms).\n",
      "  warnings.warn(msg, FutureWarning)\n"
     ]
    },
    {
     "data": {
      "image/png": "[encoded data removed]",
      "text/plain": [
       "<Figure size 432x288 with 1 Axes>"
      ]
     },
     "metadata": {
      "needs_background": "light"
     },
     "output_type": "display_data"
    }
   ],
   "source": [
    "n_iterations = 300\n",
    "n_random_restarts = 4\n",
    "best_mix = None\n",
    "best_loglike = float('-inf')\n",
    "print('Llogaritja e modelit me te mire...\\n')\n",
    "for _ in range(n_random_restarts):\n",
    "    mix = GaussianMixture_self(data)\n",
    "    for _ in range(n_iterations):\n",
    "        try:\n",
    "            mix.iterate()\n",
    "            if mix.loglike > best_loglike:\n",
    "                best_loglike = mix.loglike\n",
    "                best_mix = mix\n",
    "        except (ZeroDivisionError, ValueError, RuntimeWarning):\n",
    "            pass\n",
    "\n",
    "print('Input Gaussian {:}: μ = {:.2}, σ = {:.2}'.format(\"1\", Mean1, Standard_dev1))\n",
    "print('Input Gaussian {:}: μ = {:.2}, σ = {:.2}'.format(\"2\", Mean2, Standard_dev2))\n",
    "print('Gaussian {:}: μ = {:.2}, σ = {:.2}, weight = {:.2}'.format(\"1\", best_mix.one.mu, best_mix.one.sigma, best_mix.mix))\n",
    "print('Gaussian {:}: μ = {:.2}, σ = {:.2}, weight = {:.2}'.format(\"2\", best_mix.two.mu, best_mix.two.sigma, (1-best_mix.mix)))\n",
    "\n",
    "sns.distplot(data, bins=20, kde=False, norm_hist=True);\n",
    "g_both = [best_mix.pdf(e) for e in x]\n",
    "plt.plot(x, g_both, label='gaussian mixture');\n",
    "g_left = [best_mix.one.pdf(e) * best_mix.mix for e in x]\n",
    "plt.plot(x, g_left, label='gaussian one');\n",
    "g_right = [best_mix.two.pdf(e) * (1-best_mix.mix) for e in x]\n",
    "plt.plot(x, g_right, label='gaussian two');\n",
    "plt.legend();"
   ]
  },
  {
   "cell_type": "code",
   "execution_count": null,
   "metadata": {},
   "outputs": [],
   "source": []
  }
 ],
 "metadata": {
  "kernelspec": {
   "display_name": "Python 3",
   "language": "python",
   "name": "python3"
  },
  "language_info": {
   "codemirror_mode": {
    "name": "ipython",
    "version": 3
   },
   "file_extension": ".py",
   "mimetype": "text/x-python",
   "name": "python",
   "nbconvert_exporter": "python",
   "pygments_lexer": "ipython3",
   "version": "3.8.5"
  }
 },
 "nbformat": 4,
 "nbformat_minor": 4
}
